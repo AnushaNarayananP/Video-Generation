{
  "nbformat": 4,
  "nbformat_minor": 0,
  "metadata": {
    "colab": {
      "provenance": []
    },
    "kernelspec": {
      "name": "python3",
      "display_name": "Python 3"
    },
    "language_info": {
      "name": "python"
    }
  },
  "cells": [
    {
      "cell_type": "code",
      "source": [
        "# Project by datatec.studio"
      ],
      "metadata": {
        "id": "4F3-PGlxFV1g"
      },
      "execution_count": null,
      "outputs": []
    },
    {
      "cell_type": "code",
      "execution_count": null,
      "metadata": {
        "id": "ajdlnoe1ulOE"
      },
      "outputs": [],
      "source": [
        "!pip install --upgrade openai --quiet"
      ]
    },
    {
      "cell_type": "code",
      "source": [
        "import json\n",
        "import os\n",
        "from openai import OpenAI\n",
        "from google.colab import userdata"
      ],
      "metadata": {
        "id": "S4DpW-r-vLfa"
      },
      "execution_count": null,
      "outputs": []
    },
    {
      "cell_type": "code",
      "source": [
        "import base64\n",
        "from PIL import Image\n",
        "from io import BytesIO"
      ],
      "metadata": {
        "id": "SvA8oZ5d568f"
      },
      "execution_count": null,
      "outputs": []
    },
    {
      "cell_type": "code",
      "source": [
        "def image_to_base64(image_path):\n",
        "    # Open the image file\n",
        "    with Image.open(image_path) as img:\n",
        "        # Convert the image to bytes\n",
        "        buffered = BytesIO()\n",
        "        img.save(buffered, format=\"JPEG\")\n",
        "        # Encode the bytes to base64 string\n",
        "        img_str = base64.b64encode(buffered.getvalue()).decode('utf-8')\n",
        "\n",
        "    return img_str"
      ],
      "metadata": {
        "id": "LH-Fs1Td6zt5"
      },
      "execution_count": null,
      "outputs": []
    },
    {
      "cell_type": "code",
      "source": [
        "def get_chat_response(client, user_text, base64_str):\n",
        "    response = client.chat.completions.create(\n",
        "        model=\"gpt-4o\",\n",
        "        messages=[\n",
        "            {\"role\": \"system\", \"content\": \"You are a famous art historian. Please help me to understand the Sculpture.\"},\n",
        "            {\"role\": \"user\", \"content\": [\n",
        "                {\"type\": \"text\", \"text\": user_text},\n",
        "                {\"type\": \"image_url\", \"image_url\": {\n",
        "                    \"url\": f\"data:image/png;base64,{base64_str}\"}\n",
        "                }\n",
        "            ]}\n",
        "        ],\n",
        "        temperature=0.0,\n",
        "    )\n",
        "    return response.choices[0].message.content\n",
        "\n",
        "client = OpenAI(api_key=userdata.get('OPENAI_API_KEY'))\n",
        "base64_str = image_to_base64('img/example.jpg')"
      ],
      "metadata": {
        "id": "_vcRyMlf9Gt2"
      },
      "execution_count": null,
      "outputs": []
    },
    {
      "cell_type": "code",
      "source": [
        "print(get_chat_response(client, \"Could you describe the sculpture from this image?\", base64_str))"
      ],
      "metadata": {
        "id": "X5bEhHfcEFME"
      },
      "execution_count": null,
      "outputs": []
    },
    {
      "cell_type": "code",
      "source": [
        "print(get_chat_response(client, \"Could you tell me if the figure in this picture is happy, sad, serious or in another mood?\", base64_str))"
      ],
      "metadata": {
        "id": "bG-p3dBEEI2e"
      },
      "execution_count": null,
      "outputs": []
    },
    {
      "cell_type": "code",
      "source": [],
      "metadata": {
        "id": "8emncsiQEfpJ"
      },
      "execution_count": null,
      "outputs": []
    }
  ]
}